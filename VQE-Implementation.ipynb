{
 "cells": [
  {
   "cell_type": "markdown",
   "metadata": {},
   "source": [
    "# Variatinal Quantum Eigensolver\n",
    "\n",
    "### Juan Luis Salas Montoro\n",
    "\n",
    "### 24/03/2025"
   ]
  },
  {
   "cell_type": "markdown",
   "metadata": {},
   "source": [
    "## Introduction\n",
    "\n",
    "In this notebook, I present an implementation of the VQE algorithm applied to the $H_2$ molecule.\n",
    "\n",
    "The variational quantum eigensolver (VQE) is a hybrid classical-quantum algorithm that variationally determines the ground state energy of a Hamiltonian.\n",
    "\n",
    "The algorithm is divided in 5 parts:\n",
    "\n",
    "* Write the hamiltonian in the computational basis.\n",
    "\n",
    "* Obtain a variational ansatz to parameterize the wave function.\n",
    "\n",
    "* Represent this ansatz as a quantum circuit.\n",
    "\n",
    "* Given this circuit, measure the expectation value of Hamiltonian (energy).\n",
    "\n",
    "* Minimize the energy depending on the circuit patameters."
   ]
  },
  {
   "cell_type": "markdown",
   "metadata": {},
   "source": [
    "## Writing the hamiltonian in computational basis\n",
    "\n",
    "In order to work with the hamiltonian and calculate it expected value (energy) with qubits, we need to express it in computational basis. We start with the electronic hamiltonian of the molecule:\n",
    "\n",
    "$$\\hat{H}=-\\sum_{i=1}^{n_e}-\\frac{\\nabla_i^2}{2} - \\sum_{i=1}^{n_e}\\sum_{l=1}^{n_p}\\frac{Z_l}{r_{il}} + \\sum_{i=1, j>i}^{n_e} \\frac{1}{r_{ij}} $$\n",
    "\n",
    "Which takes into account, in order: the kinetic energy of the electrons, the electron-nuclei attraction and the electron-electron repulsion. The nuclei-nuclei interaction is not accounted in this hamiltonian since its energy aportation is constant given the nuclear separation parameter. This hamiltonian, second quantized, can be expresed with common quantum gates using the **Jordan-Wigner (JW)** transformation and the **Bravyi-Kitaev (BK)** transformation **[1]**.\n",
    "\n",
    "According to **[2]**, the hamiltonian of the $H_2$ molecule, using **BK** trnasformations can be expressed with only two qubits:\n",
    "\n",
    "$$ \\hat{H}=g_0\\hat{I} + g_1 \\hat{Z_0} + g_2 \\hat{Z_1} + g_3 \\hat{Z_0}\\hat{Z_1} + g_4 \\hat{Y_0}\\hat{Y_1} + g_5 \\hat{X_0}\\hat{X_1} $$\n",
    "\n",
    "With the $g_i$ coefficients obtained from a Hartre-Fock calculation\n",
    "\n",
    "\n",
    "\n",
    "\n",
    "\n",
    "We will use the data from **Table 1** of **[1]**, using an nuclear separation of $R=0.75\\r{A}$ which is near the equilibrium point."
   ]
  },
  {
   "cell_type": "markdown",
   "metadata": {},
   "source": [
    "## References\n",
    "\n",
    "**[1]** Joshua Goings, Variational Quantum Eigensolver (VQE) Example https://joshuagoings.com/2020/08/20/VQE/ (Accessed 24/03/2025)\n",
    "\n",
    "**[2]** O’Malley, P. J., Babbush, R., Kivlichan, I. D., Romero, J., McClean, J. R., Barends, R., ... & Martinis, J. M. (2016). Scalable quantum simulation of molecular energies. Physical Review X, 6(3), 031007.  https://journals.aps.org/prx/pdf/10.1103/PhysRevX.6.031007 (Accessed 24/03/2025)\n",
    "\n",
    "**[3]** https://github.com/jamessaslow/VQE-Tutorial-H2/blob/main/Variational%20Quantum%20Eigensolver.ipynb (Accessed 14/03/2025)"
   ]
  },
  {
   "cell_type": "markdown",
   "metadata": {},
   "source": []
  }
 ],
 "metadata": {
  "language_info": {
   "name": "python"
  }
 },
 "nbformat": 4,
 "nbformat_minor": 2
}
